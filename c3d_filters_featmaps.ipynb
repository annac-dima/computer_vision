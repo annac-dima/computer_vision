{
 "cells": [
  {
   "cell_type": "markdown",
   "metadata": {},
   "source": [
    "# C3D NEURAL NETWORK\n",
    "## VISUALIZE: Filters and Feature Maps for convolutional layers\n",
    "\n",
    "This notebook can be used to visualize the filters and the feature maps of any convolutional layer of the C3D.  \n",
    "To visualize a filter, you must choose a convolutional layer (conv1, conv2, conv3a, conv3b, conv4a, conv4b, conv5a, conv5b) and the numbers of the input unit and the output unit that are connected by the filter. These variables must be specified in the `plot_filter(conv_selected, input_u, output_u)` function.\n",
    "\n",
    "To visualize a feature map, you must choose a video, copy its path in the `video_path` variable. Then you may select a clip of 16 frames or let the script choose it randomly. Then you must decide which frame among the 16 frames you want to use, which convolutional layer and which unit in this layer you prefer. These variables must be specified in the `plot_featmap(conv_selected,num_frame, num_unit)` function."
   ]
  },
  {
   "cell_type": "code",
   "execution_count": null,
   "metadata": {},
   "outputs": [],
   "source": [
    "# PATHS: video_path, cfg.filter_path"
   ]
  },
  {
   "cell_type": "code",
   "execution_count": 1,
   "metadata": {},
   "outputs": [
    {
     "name": "stderr",
     "output_type": "stream",
     "text": [
      "/Users/francescabianchessi/Documents/GIT/computer_vision_main/utils/visualization_util.py:2: UserWarning: \n",
      "This call to matplotlib.use() has no effect because the backend has already\n",
      "been chosen; matplotlib.use() must be called *before* pylab, matplotlib.pyplot,\n",
      "or matplotlib.backends is imported for the first time.\n",
      "\n",
      "The backend was *originally* set to 'module://ipykernel.pylab.backend_inline' by the following code:\n",
      "  File \"/Users/francescabianchessi/opt/anaconda3/lib/python3.7/runpy.py\", line 193, in _run_module_as_main\n",
      "    \"__main__\", mod_spec)\n",
      "  File \"/Users/francescabianchessi/opt/anaconda3/lib/python3.7/runpy.py\", line 85, in _run_code\n",
      "    exec(code, run_globals)\n",
      "  File \"/Users/francescabianchessi/opt/anaconda3/lib/python3.7/site-packages/ipykernel_launcher.py\", line 16, in <module>\n",
      "    app.launch_new_instance()\n",
      "  File \"/Users/francescabianchessi/opt/anaconda3/lib/python3.7/site-packages/traitlets/config/application.py\", line 664, in launch_instance\n",
      "    app.start()\n",
      "  File \"/Users/francescabianchessi/opt/anaconda3/lib/python3.7/site-packages/ipykernel/kernelapp.py\", line 583, in start\n",
      "    self.io_loop.start()\n",
      "  File \"/Users/francescabianchessi/opt/anaconda3/lib/python3.7/site-packages/tornado/platform/asyncio.py\", line 149, in start\n",
      "    self.asyncio_loop.run_forever()\n",
      "  File \"/Users/francescabianchessi/opt/anaconda3/lib/python3.7/asyncio/base_events.py\", line 541, in run_forever\n",
      "    self._run_once()\n",
      "  File \"/Users/francescabianchessi/opt/anaconda3/lib/python3.7/asyncio/base_events.py\", line 1786, in _run_once\n",
      "    handle._run()\n",
      "  File \"/Users/francescabianchessi/opt/anaconda3/lib/python3.7/asyncio/events.py\", line 88, in _run\n",
      "    self._context.run(self._callback, *self._args)\n",
      "  File \"/Users/francescabianchessi/opt/anaconda3/lib/python3.7/site-packages/tornado/ioloop.py\", line 690, in <lambda>\n",
      "    lambda f: self._run_callback(functools.partial(callback, future))\n",
      "  File \"/Users/francescabianchessi/opt/anaconda3/lib/python3.7/site-packages/tornado/ioloop.py\", line 743, in _run_callback\n",
      "    ret = callback()\n",
      "  File \"/Users/francescabianchessi/opt/anaconda3/lib/python3.7/site-packages/tornado/gen.py\", line 787, in inner\n",
      "    self.run()\n",
      "  File \"/Users/francescabianchessi/opt/anaconda3/lib/python3.7/site-packages/tornado/gen.py\", line 748, in run\n",
      "    yielded = self.gen.send(value)\n",
      "  File \"/Users/francescabianchessi/opt/anaconda3/lib/python3.7/site-packages/ipykernel/kernelbase.py\", line 361, in process_one\n",
      "    yield gen.maybe_future(dispatch(*args))\n",
      "  File \"/Users/francescabianchessi/opt/anaconda3/lib/python3.7/site-packages/tornado/gen.py\", line 209, in wrapper\n",
      "    yielded = next(result)\n",
      "  File \"/Users/francescabianchessi/opt/anaconda3/lib/python3.7/site-packages/ipykernel/kernelbase.py\", line 268, in dispatch_shell\n",
      "    yield gen.maybe_future(handler(stream, idents, msg))\n",
      "  File \"/Users/francescabianchessi/opt/anaconda3/lib/python3.7/site-packages/tornado/gen.py\", line 209, in wrapper\n",
      "    yielded = next(result)\n",
      "  File \"/Users/francescabianchessi/opt/anaconda3/lib/python3.7/site-packages/ipykernel/kernelbase.py\", line 541, in execute_request\n",
      "    user_expressions, allow_stdin,\n",
      "  File \"/Users/francescabianchessi/opt/anaconda3/lib/python3.7/site-packages/tornado/gen.py\", line 209, in wrapper\n",
      "    yielded = next(result)\n",
      "  File \"/Users/francescabianchessi/opt/anaconda3/lib/python3.7/site-packages/ipykernel/ipkernel.py\", line 300, in do_execute\n",
      "    res = shell.run_cell(code, store_history=store_history, silent=silent)\n",
      "  File \"/Users/francescabianchessi/opt/anaconda3/lib/python3.7/site-packages/ipykernel/zmqshell.py\", line 536, in run_cell\n",
      "    return super(ZMQInteractiveShell, self).run_cell(*args, **kwargs)\n",
      "  File \"/Users/francescabianchessi/opt/anaconda3/lib/python3.7/site-packages/IPython/core/interactiveshell.py\", line 2858, in run_cell\n",
      "    raw_cell, store_history, silent, shell_futures)\n",
      "  File \"/Users/francescabianchessi/opt/anaconda3/lib/python3.7/site-packages/IPython/core/interactiveshell.py\", line 2886, in _run_cell\n",
      "    return runner(coro)\n",
      "  File \"/Users/francescabianchessi/opt/anaconda3/lib/python3.7/site-packages/IPython/core/async_helpers.py\", line 68, in _pseudo_sync_runner\n",
      "    coro.send(None)\n",
      "  File \"/Users/francescabianchessi/opt/anaconda3/lib/python3.7/site-packages/IPython/core/interactiveshell.py\", line 3063, in run_cell_async\n",
      "    interactivity=interactivity, compiler=compiler, result=result)\n",
      "  File \"/Users/francescabianchessi/opt/anaconda3/lib/python3.7/site-packages/IPython/core/interactiveshell.py\", line 3254, in run_ast_nodes\n",
      "    if (await self.run_code(code, result,  async_=asy)):\n",
      "  File \"/Users/francescabianchessi/opt/anaconda3/lib/python3.7/site-packages/IPython/core/interactiveshell.py\", line 3331, in run_code\n",
      "    exec(code_obj, self.user_global_ns, self.user_ns)\n",
      "  File \"<ipython-input-1-1e665fdfd01e>\", line 4, in <module>\n",
      "    from matplotlib import pyplot\n",
      "  File \"/Users/francescabianchessi/opt/anaconda3/lib/python3.7/site-packages/matplotlib/pyplot.py\", line 71, in <module>\n",
      "    from matplotlib.backends import pylab_setup\n",
      "  File \"/Users/francescabianchessi/opt/anaconda3/lib/python3.7/site-packages/matplotlib/backends/__init__.py\", line 16, in <module>\n",
      "    line for line in traceback.format_stack()\n",
      "\n",
      "\n",
      "  matplotlib.use('agg')\n"
     ]
    }
   ],
   "source": [
    "import numpy as np\n",
    "import os\n",
    "import random\n",
    "from matplotlib import pyplot\n",
    "\n",
    "from utils.visualization_util import *\n",
    "from c3d import *\n",
    "import configuration as cfg\n",
    "\n",
    "from PIL import Image\n",
    "from tensorflow.keras.preprocessing.image import load_img\n",
    "from tensorflow.keras.preprocessing.image import img_to_array"
   ]
  },
  {
   "cell_type": "markdown",
   "metadata": {},
   "source": [
    "## How to visualize FILTERS\n",
    "\n",
    "1. Choose the convolutional layer you want  \n",
    "2. Chosse which filter you want to plot\n",
    "![schema](img/Filters_FeatureMaps/schema.png)"
   ]
  },
  {
   "cell_type": "code",
   "execution_count": 2,
   "metadata": {},
   "outputs": [
    {
     "name": "stdout",
     "output_type": "stream",
     "text": [
      "-  0 conv1 (3, 3, 3, 3, 64)\n",
      "-  1 pool1\n",
      "-  2 conv2 (3, 3, 3, 64, 128)\n",
      "-  3 pool2\n",
      "-  4 conv3a (3, 3, 3, 128, 256)\n",
      "-  5 conv3b (3, 3, 3, 256, 256)\n",
      "-  6 pool3\n",
      "-  7 conv4a (3, 3, 3, 256, 512)\n",
      "-  8 conv4b (3, 3, 3, 512, 512)\n",
      "-  9 pool4\n",
      "-  10 conv5a (3, 3, 3, 512, 512)\n",
      "-  11 conv5b (3, 3, 3, 512, 512)\n",
      "-  12 zero_padding3d\n",
      "-  13 pool5\n",
      "-  14 flatten\n",
      "-  15 fc6\n",
      "-  16 dropout\n",
      "-  17 fc7\n",
      "-  18 dropout_1\n",
      "-  19 fc8\n"
     ]
    }
   ],
   "source": [
    "# Initialize the model\n",
    "model = C3D() \n",
    "\n",
    "# Summarize layers' names and positions \n",
    "for i in range(len(model.layers)):\n",
    "    if 'conv' not in model.layers[i].name:\n",
    "        print(\"- \", i, model.layers[i].name)\n",
    "    else: \n",
    "        filters, biases = model.layers[i].get_weights()\n",
    "        print(\"- \", i, model.layers[i].name, filters.shape)\n",
    "        # Filters.shape = [filter_depth, filter_height, filter_width, in_channels, out_channels]\n",
    "\n",
    "    \n",
    "# Save in a dict only convolutional layers and their positions \n",
    "positions_conv = {model.layers[i].name:i for i in range(len(model.layers)) if 'conv' in model.layers[i].name}\n",
    "\n",
    "def plot_filter(conv_selected, input_u, output_u):\n",
    "    '''Choose a conv layer and which filter you want to visualize'''\n",
    "    if conv_selected not in positions_conv.keys():\n",
    "        raise(\"Select a convolutional layer!\")\n",
    "    else: \n",
    "        posit = positions_conv[conv_selected]\n",
    "        filters, biases = model.layers[posit].get_weights()\n",
    "        f_min, f_max = filters.min(), filters.max()\n",
    "        filters = (filters - f_min) / (f_max - f_min)\n",
    "        \n",
    "        tot_filters = filters.shape[-2]*filters.shape[-1]\n",
    "        tot_units = filters.shape[-1]\n",
    "        print('')\n",
    "        print('Selected layer: {} with {} units (hence {} filters)'.format(conv_selected,tot_units,tot_filters))\n",
    "        plt.imshow(filters[:, :, :, input_u, output_u])\n",
    "        plt.axis('off')\n",
    "        plt.title('{} layer: {}-{} filter'.format(conv_selected,input_u, output_u))\n",
    "        plt.show()"
   ]
  },
  {
   "cell_type": "code",
   "execution_count": 3,
   "metadata": {},
   "outputs": [
    {
     "name": "stdout",
     "output_type": "stream",
     "text": [
      "\n",
      "Selected layer: conv1 with 64 units (hence 192 filters)\n"
     ]
    },
    {
     "data": {
      "image/png": "[encoded data removed]",
      "text/plain": [
       "<Figure size 432x288 with 1 Axes>"
      ]
     },
     "metadata": {
      "needs_background": "light"
     },
     "output_type": "display_data"
    }
   ],
   "source": [
    "# Run the following cell to plot your filter \n",
    "plot_filter('conv1', 1, 60)"
   ]
  },
  {
   "cell_type": "markdown",
   "metadata": {},
   "source": [
    "## How to visualize FEATURE MAPS \n",
    "The idea of visualizing a feature map for a specific input, that in our case is a clip of 16 frames, would be to understand what features of the input are detected or preserved in the feature maps."
   ]
  },
  {
   "cell_type": "code",
   "execution_count": 4,
   "metadata": {},
   "outputs": [
    {
     "name": "stdout",
     "output_type": "stream",
     "text": [
      "This video has 1413 frames, grouped into 89 16-frames-length clips\n",
      "Selected clip: 83\n"
     ]
    }
   ],
   "source": [
    "# Select a video \n",
    "video_path = './Input/Caliano_2.mp4'\n",
    "clips, frames = get_video_clips(video_path)\n",
    "print('This video has {} frames, grouped into {} 16-frames-length clips'.format(frames, len(clips)))\n",
    "\n",
    "# Select one clip for the visualization \n",
    "#num_clip = 10\n",
    "\n",
    "# Or randomly select a clip to visualize\n",
    "num_clip = np.random.randint(len(clips))\n",
    "print('Selected clip: {}'.format(num_clip))\n",
    "\n",
    "clip = np.array(clips[num_clip])\n",
    "assert clip.shape == (16, 240, 320, 3)\n",
    "\n",
    "# Save in a folder the 16 frames of the selected clip\n",
    "name_output_folder = 'clips_{}__{}'.format(len(clips), os.path.basename(video_path).split('.')[0])\n",
    "path_output_folder = os.path.join(cfg.filter_path, name_output_folder)\n",
    "if not os.path.exists(path_output_folder):\n",
    "    os.makedirs(path_output_folder)\n",
    "c = 0\n",
    "for i in clip:\n",
    "    im = Image.fromarray(i)\n",
    "    im.save(os.path.join(path_output_folder, 'clip_{}_{}.jpg'.format(c, len(clips))))\n",
    "    c +=1\n",
    "    \n",
    "# Upload 16 frames and reshape them (112x112)\n",
    "clipp = [] # list of 16 images\n",
    "for i in range(16):\n",
    "    clipp.append(load_img(os.path.join(path_output_folder, 'clip_{}_{}.jpg'.format(i, len(clips))),\n",
    "                          target_size=(112, 112)))\n",
    "\n",
    "clip_array = [] # list of 16 arrays\n",
    "for i in range(len(clipp)):\n",
    "    clip_array.append(img_to_array(clipp[i]))\n",
    "\n",
    "clip_array = np.array(clip_array)\n",
    "assert clip_array.shape == (16, 112, 112, 3)\n",
    "clip_expanded = np.expand_dims(clip_array, axis=0)"
   ]
  },
  {
   "cell_type": "code",
   "execution_count": 5,
   "metadata": {},
   "outputs": [
    {
     "name": "stdout",
     "output_type": "stream",
     "text": [
      "- 0 conv1 (None, 16, 112, 112, 64)\n",
      "- 2 conv2 (None, 16, 56, 56, 128)\n",
      "- 4 conv3a (None, 8, 28, 28, 256)\n",
      "- 5 conv3b (None, 8, 28, 28, 256)\n",
      "- 7 conv4a (None, 4, 14, 14, 512)\n",
      "- 8 conv4b (None, 4, 14, 14, 512)\n",
      "- 10 conv5a (None, 2, 7, 7, 512)\n",
      "- 11 conv5b (None, 2, 7, 7, 512)\n"
     ]
    }
   ],
   "source": [
    "# Summarize Feature Maps shape per each layer \n",
    "for i in range(len(model.layers)):\n",
    "    layer = model.layers[i]\n",
    "    if 'conv' not in layer.name:\n",
    "        continue\n",
    "    print('-', i, layer.name, layer.output.shape)"
   ]
  },
  {
   "cell_type": "code",
   "execution_count": 21,
   "metadata": {},
   "outputs": [],
   "source": [
    " def plot_featmap(conv_selected,num_frame, num_unit):\n",
    "     '''Select the convolutional layer, one frame of the clip and the unit of the layer'''\n",
    "    if conv_selected not in positions_conv.keys():\n",
    "        raise(\"Select a convolutional layer!\")\n",
    "    else: \n",
    "        posit = positions_conv[conv_selected]\n",
    "        model_mini = Model(inputs=model.inputs, outputs=model.layers[posit].output)\n",
    "        feature_maps = model_mini.predict(clip_expanded)\n",
    "        print(feature_maps.shape)\n",
    "        print('')\n",
    "        print('Selected layer: {}'.format(conv_selected))\n",
    "        plt.imshow(feature_maps[0, num_frame, :, :, num_unit], cmap='CMRmap')\n",
    "        plt.axis('off')\n",
    "        plt.title('{} layer: frame {} - unit {}'.format(conv_selected,num_frame, num_unit))\n",
    "        plt.show()\n",
    "        return feature_maps"
   ]
  },
  {
   "cell_type": "code",
   "execution_count": 22,
   "metadata": {},
   "outputs": [
    {
     "name": "stdout",
     "output_type": "stream",
     "text": [
      "WARNING:tensorflow:AutoGraph could not transform <function Model.make_predict_function.<locals>.predict_function at 0x7ff44e183c20> and will run it as-is.\n",
      "Please report this to the TensorFlow team. When filing the bug, set the verbosity to 10 (on Linux, `export AUTOGRAPH_VERBOSITY=10`) and attach the full output.\n",
      "Cause: 'arguments' object has no attribute 'posonlyargs'\n",
      "To silence this warning, decorate the function with @tf.autograph.experimental.do_not_convert\n",
      "WARNING: AutoGraph could not transform <function Model.make_predict_function.<locals>.predict_function at 0x7ff44e183c20> and will run it as-is.\n",
      "Please report this to the TensorFlow team. When filing the bug, set the verbosity to 10 (on Linux, `export AUTOGRAPH_VERBOSITY=10`) and attach the full output.\n",
      "Cause: 'arguments' object has no attribute 'posonlyargs'\n",
      "To silence this warning, decorate the function with @tf.autograph.experimental.do_not_convert\n",
      "WARNING:tensorflow:10 out of the last 10 calls to <function Model.make_predict_function.<locals>.predict_function at 0x7ff44e183c20> triggered tf.function retracing. Tracing is expensive and the excessive number of tracings could be due to (1) creating @tf.function repeatedly in a loop, (2) passing tensors with different shapes, (3) passing Python objects instead of tensors. For (1), please define your @tf.function outside of the loop. For (2), @tf.function has experimental_relax_shapes=True option that relaxes argument shapes that can avoid unnecessary retracing. For (3), please refer to https://www.tensorflow.org/tutorials/customization/performance#python_or_tensor_args and https://www.tensorflow.org/api_docs/python/tf/function for  more details.\n",
      "(1, 16, 112, 112, 64)\n",
      "\n",
      "Selected layer: conv1\n"
     ]
    },
    {
     "data": {
      "image/png": "[encoded data removed]",
      "text/plain": [
       "<Figure size 432x288 with 1 Axes>"
      ]
     },
     "metadata": {
      "needs_background": "light"
     },
     "output_type": "display_data"
    }
   ],
   "source": [
    "feature_maps = plot_featmap('conv1', 2, 60)"
   ]
  }
 ],
 "metadata": {
  "kernelspec": {
   "display_name": "Python 3",
   "language": "python",
   "name": "python3"
  },
  "language_info": {
   "codemirror_mode": {
    "name": "ipython",
    "version": 3
   },
   "file_extension": ".py",
   "mimetype": "text/x-python",
   "name": "python",
   "nbconvert_exporter": "python",
   "pygments_lexer": "ipython3",
   "version": "3.7.7"
  }
 },
 "nbformat": 4,
 "nbformat_minor": 4
}
